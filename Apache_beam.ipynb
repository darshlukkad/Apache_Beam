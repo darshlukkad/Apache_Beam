{
  "nbformat": 4,
  "nbformat_minor": 0,
  "metadata": {
    "colab": {
      "provenance": [],
      "machine_shape": "hm",
      "gpuType": "T4",
      "include_colab_link": true
    },
    "kernelspec": {
      "name": "python3",
      "display_name": "Python 3"
    },
    "language_info": {
      "name": "python"
    },
    "accelerator": "GPU"
  },
  "cells": [
    {
      "cell_type": "markdown",
      "metadata": {
        "id": "view-in-github",
        "colab_type": "text"
      },
      "source": [
        "<a href=\"https://colab.research.google.com/github/darshlukkad/Apache_Beam/blob/main/Apache_beam.ipynb\" target=\"_parent\"><img src=\"https://colab.research.google.com/assets/colab-badge.svg\" alt=\"Open In Colab\"/></a>"
      ]
    },
    {
      "cell_type": "code",
      "source": [
        "!pip3 install --quiet apache-beam"
      ],
      "metadata": {
        "id": "zQqVcs0lyoGi",
        "colab": {
          "base_uri": "https://localhost:8080/"
        },
        "outputId": "ca51da01-0d08-4b7c-b450-37afcf864f64"
      },
      "execution_count": 1,
      "outputs": [
        {
          "output_type": "stream",
          "name": "stdout",
          "text": [
            "\u001b[?25l     \u001b[90m━━━━━━━━━━━━━━━━━━━━━━━━━━━━━━━━━━━━━━━━\u001b[0m \u001b[32m0.0/89.7 kB\u001b[0m \u001b[31m?\u001b[0m eta \u001b[36m-:--:--\u001b[0m\r\u001b[2K     \u001b[90m━━━━━━━━━━━━━━━━━━━━━━━━━━━━━━━━━━━━━━━━\u001b[0m \u001b[32m89.7/89.7 kB\u001b[0m \u001b[31m8.7 MB/s\u001b[0m eta \u001b[36m0:00:00\u001b[0m\n",
            "\u001b[?25h  Preparing metadata (setup.py) ... \u001b[?25l\u001b[?25hdone\n",
            "\u001b[2K     \u001b[90m━━━━━━━━━━━━━━━━━━━━━━━━━━━━━━━━━━━━━━━━\u001b[0m \u001b[32m43.5/43.5 kB\u001b[0m \u001b[31m4.2 MB/s\u001b[0m eta \u001b[36m0:00:00\u001b[0m\n",
            "\u001b[?25h  Preparing metadata (setup.py) ... \u001b[?25l\u001b[?25hdone\n",
            "  Preparing metadata (setup.py) ... \u001b[?25l\u001b[?25hdone\n",
            "\u001b[2K   \u001b[90m━━━━━━━━━━━━━━━━━━━━━━━━━━━━━━━━━━━━━━━━\u001b[0m \u001b[32m17.2/17.2 MB\u001b[0m \u001b[31m17.6 MB/s\u001b[0m eta \u001b[36m0:00:00\u001b[0m\n",
            "\u001b[2K   \u001b[90m━━━━━━━━━━━━━━━━━━━━━━━━━━━━━━━━━━━━━━━━\u001b[0m \u001b[32m1.2/1.2 MB\u001b[0m \u001b[31m88.3 MB/s\u001b[0m eta \u001b[36m0:00:00\u001b[0m\n",
            "\u001b[2K   \u001b[90m━━━━━━━━━━━━━━━━━━━━━━━━━━━━━━━━━━━━━━━━\u001b[0m \u001b[32m3.5/3.5 MB\u001b[0m \u001b[31m46.1 MB/s\u001b[0m eta \u001b[36m0:00:00\u001b[0m\n",
            "\u001b[2K   \u001b[90m━━━━━━━━━━━━━━━━━━━━━━━━━━━━━━━━━━━━━━━━\u001b[0m \u001b[32m5.6/5.6 MB\u001b[0m \u001b[31m18.9 MB/s\u001b[0m eta \u001b[36m0:00:00\u001b[0m\n",
            "\u001b[2K   \u001b[90m━━━━━━━━━━━━━━━━━━━━━━━━━━━━━━━━━━━━━━━━\u001b[0m \u001b[32m96.9/96.9 kB\u001b[0m \u001b[31m11.2 MB/s\u001b[0m eta \u001b[36m0:00:00\u001b[0m\n",
            "\u001b[2K   \u001b[90m━━━━━━━━━━━━━━━━━━━━━━━━━━━━━━━━━━━━━━━━\u001b[0m \u001b[32m46.3/46.3 kB\u001b[0m \u001b[31m4.6 MB/s\u001b[0m eta \u001b[36m0:00:00\u001b[0m\n",
            "\u001b[2K   \u001b[90m━━━━━━━━━━━━━━━━━━━━━━━━━━━━━━━━━━━━━━━━\u001b[0m \u001b[32m1.7/1.7 MB\u001b[0m \u001b[31m101.8 MB/s\u001b[0m eta \u001b[36m0:00:00\u001b[0m\n",
            "\u001b[2K   \u001b[90m━━━━━━━━━━━━━━━━━━━━━━━━━━━━━━━━━━━━━━━━\u001b[0m \u001b[32m272.8/272.8 kB\u001b[0m \u001b[31m32.7 MB/s\u001b[0m eta \u001b[36m0:00:00\u001b[0m\n",
            "\u001b[2K   \u001b[90m━━━━━━━━━━━━━━━━━━━━━━━━━━━━━━━━━━━━━━━━\u001b[0m \u001b[32m331.1/331.1 kB\u001b[0m \u001b[31m37.5 MB/s\u001b[0m eta \u001b[36m0:00:00\u001b[0m\n",
            "\u001b[?25h  Building wheel for crcmod (setup.py) ... \u001b[?25l\u001b[?25hdone\n",
            "  Building wheel for hdfs (setup.py) ... \u001b[?25l\u001b[?25hdone\n",
            "  Building wheel for docopt (setup.py) ... \u001b[?25l\u001b[?25hdone\n",
            "\u001b[31mERROR: pip's dependency resolver does not currently take into account all the packages that are installed. This behaviour is the source of the following dependency conflicts.\n",
            "grpcio-status 1.71.2 requires grpcio>=1.71.2, but you have grpcio 1.65.5 which is incompatible.\u001b[0m\u001b[31m\n",
            "\u001b[0m"
          ]
        }
      ]
    },
    {
      "cell_type": "code",
      "source": [
        "import apache_beam as beam\n",
        "from apache_beam.options.pipeline_options import PipelineOptions\n",
        "from apache_beam.runners.interactive import interactive_beam\n",
        "\n",
        "# Initialize interactive Beam environment\n",
        "interactive_beam.options.capture_control.capture_duration = 5\n",
        "print(\"✅ Apache Beam installed and ready.\")"
      ],
      "metadata": {
        "colab": {
          "base_uri": "https://localhost:8080/"
        },
        "id": "I3jOCbkqyu_I",
        "outputId": "9132fa40-1997-4064-9d95-d0fd929a00bf"
      },
      "execution_count": 2,
      "outputs": [
        {
          "output_type": "stream",
          "name": "stdout",
          "text": [
            "✅ Apache Beam installed and ready.\n"
          ]
        }
      ]
    },
    {
      "cell_type": "code",
      "source": [
        "sales_data = \"\"\"order_id,customer,amount,timestamp\n",
        "1,John,250,2025-10-28T10:01:05\n",
        "2,Alice,900,2025-10-28T10:01:25\n",
        "3,Bob,50,2025-10-28T10:02:10\n",
        "4,Jane,600,2025-10-28T10:02:30\n",
        "5,Steve,0,2025-10-28T10:03:05\n",
        "6,Mary,120,2025-10-28T10:03:45\n",
        "7,Tom,750,2025-10-28T10:04:10\n",
        "\"\"\"\n",
        "\n",
        "with open(\"sales.csv\", \"w\") as f:\n",
        "    f.write(sales_data)\n",
        "\n",
        "# Check that the file was created successfully\n",
        "!cat sales.csv"
      ],
      "metadata": {
        "colab": {
          "base_uri": "https://localhost:8080/"
        },
        "id": "CSLhvVO2zTXW",
        "outputId": "31f32b6b-ee91-47c7-c53e-45f37b6faff0"
      },
      "execution_count": 3,
      "outputs": [
        {
          "output_type": "stream",
          "name": "stdout",
          "text": [
            "order_id,customer,amount,timestamp\n",
            "1,John,250,2025-10-28T10:01:05\n",
            "2,Alice,900,2025-10-28T10:01:25\n",
            "3,Bob,50,2025-10-28T10:02:10\n",
            "4,Jane,600,2025-10-28T10:02:30\n",
            "5,Steve,0,2025-10-28T10:03:05\n",
            "6,Mary,120,2025-10-28T10:03:45\n",
            "7,Tom,750,2025-10-28T10:04:10\n"
          ]
        }
      ]
    },
    {
      "cell_type": "code",
      "source": [
        "# STEP 3: Basic Beam pipeline - Read and print sales data\n",
        "\n",
        "from apache_beam.runners.interactive.interactive_runner import InteractiveRunner\n",
        "\n",
        "# Initialize a Beam pipeline\n",
        "p = beam.Pipeline(InteractiveRunner(), options=PipelineOptions())\n",
        "\n",
        "# Read data from the CSV file (skipping the header)\n",
        "sales = (\n",
        "    p\n",
        "    | \"ReadSalesData\" >> beam.io.ReadFromText(\"sales.csv\", skip_header_lines=1)\n",
        ")\n",
        "\n",
        "# Print each line to verify the pipeline works\n",
        "sales | \"PrintLines\" >> beam.Map(print)\n",
        "\n",
        "# Execute the pipeline\n",
        "result = p.run()\n",
        "result.wait_until_finish()\n",
        "\n",
        "print(\"✅ Pipeline executed successfully.\")\n"
      ],
      "metadata": {
        "colab": {
          "base_uri": "https://localhost:8080/",
          "height": 349
        },
        "id": "83MRUms-zkcV",
        "outputId": "12750426-8cbe-4811-f862-da6abf582cae"
      },
      "execution_count": 4,
      "outputs": [
        {
          "output_type": "stream",
          "name": "stderr",
          "text": [
            "WARNING:apache_beam.runners.interactive.interactive_environment:Dependencies required for Interactive Beam PCollection visualization are not available, please use: `pip install apache-beam[interactive]` to install necessary dependencies to enable all data visualization features.\n"
          ]
        },
        {
          "output_type": "display_data",
          "data": {
            "application/javascript": [
              "\n",
              "        if (typeof window.interactive_beam_jquery == 'undefined') {\n",
              "          var jqueryScript = document.createElement('script');\n",
              "          jqueryScript.src = 'https://code.jquery.com/jquery-3.4.1.slim.min.js';\n",
              "          jqueryScript.type = 'text/javascript';\n",
              "          jqueryScript.onload = function() {\n",
              "            var datatableScript = document.createElement('script');\n",
              "            datatableScript.src = 'https://cdn.datatables.net/1.10.20/js/jquery.dataTables.min.js';\n",
              "            datatableScript.type = 'text/javascript';\n",
              "            datatableScript.onload = function() {\n",
              "              window.interactive_beam_jquery = jQuery.noConflict(true);\n",
              "              window.interactive_beam_jquery(document).ready(function($){\n",
              "                \n",
              "              });\n",
              "            }\n",
              "            document.head.appendChild(datatableScript);\n",
              "          };\n",
              "          document.head.appendChild(jqueryScript);\n",
              "        } else {\n",
              "          window.interactive_beam_jquery(document).ready(function($){\n",
              "            \n",
              "          });\n",
              "        }"
            ]
          },
          "metadata": {}
        },
        {
          "output_type": "stream",
          "name": "stderr",
          "text": [
            "WARNING:apache_beam.options.pipeline_options:Discarding unparseable args: ['-f', '/root/.local/share/jupyter/runtime/kernel-6cd3a391-fb31-41d2-ac26-ac746692b628.json']\n",
            "WARNING:apache_beam.options.pipeline_options:Unparseable argument: -f\n",
            "WARNING:apache_beam.options.pipeline_options:Unparseable argument: /root/.local/share/jupyter/runtime/kernel-6cd3a391-fb31-41d2-ac26-ac746692b628.json\n",
            "WARNING:apache_beam.options.pipeline_options:Discarding flag -f, single dash flags are not allowed.\n",
            "WARNING:apache_beam.options.pipeline_options:Unparseable argument: -f\n",
            "WARNING:apache_beam.options.pipeline_options:Unparseable argument: /root/.local/share/jupyter/runtime/kernel-6cd3a391-fb31-41d2-ac26-ac746692b628.json\n",
            "WARNING:apache_beam.options.pipeline_options:Discarding flag -f, single dash flags are not allowed.\n",
            "WARNING:apache_beam.options.pipeline_options:Discarding unparseable args: ['-f', '/root/.local/share/jupyter/runtime/kernel-6cd3a391-fb31-41d2-ac26-ac746692b628.json']\n",
            "WARNING:apache_beam.options.pipeline_options:Discarding unparseable args: ['-f', '/root/.local/share/jupyter/runtime/kernel-6cd3a391-fb31-41d2-ac26-ac746692b628.json']\n"
          ]
        },
        {
          "output_type": "stream",
          "name": "stdout",
          "text": [
            "1,John,250,2025-10-28T10:01:05\n",
            "2,Alice,900,2025-10-28T10:01:25\n",
            "3,Bob,50,2025-10-28T10:02:10\n",
            "4,Jane,600,2025-10-28T10:02:30\n",
            "5,Steve,0,2025-10-28T10:03:05\n",
            "6,Mary,120,2025-10-28T10:03:45\n",
            "7,Tom,750,2025-10-28T10:04:10\n",
            "✅ Pipeline executed successfully.\n"
          ]
        }
      ]
    },
    {
      "cell_type": "code",
      "source": [
        "# STEP 4: Parse, clean, and enrich sales data using ParDo and Composite Transform\n",
        "\n",
        "class ParseAndCleanDoFn(beam.DoFn):\n",
        "    def process(self, element):\n",
        "        try:\n",
        "            order_id, customer, amount, timestamp = element.split(',')\n",
        "            amount = float(amount)\n",
        "            if amount > 0:  # Filter invalid rows here\n",
        "                yield {\n",
        "                    'order_id': order_id.strip(),\n",
        "                    'customer': customer.strip(),\n",
        "                    'amount': amount,\n",
        "                    'timestamp': timestamp.strip()\n",
        "                }\n",
        "        except Exception as e:\n",
        "            # Skip malformed lines\n",
        "            return\n",
        "\n",
        "# Composite transform that combines parsing and enrichment\n",
        "class CleanSalesData(beam.PTransform):\n",
        "    def expand(self, pcoll):\n",
        "        return (\n",
        "            pcoll\n",
        "            | \"ParseAndClean\" >> beam.ParDo(ParseAndCleanDoFn())\n",
        "            | \"AddTax\" >> beam.Map(lambda x: {**x, 'total_with_tax': round(x['amount'] * 1.05, 2)})\n",
        "        )\n",
        "\n",
        "# Build pipeline\n",
        "p2 = beam.Pipeline(InteractiveRunner(), options=PipelineOptions())\n",
        "\n",
        "parsed_sales = (\n",
        "    p2\n",
        "    | \"ReadCSV\" >> beam.io.ReadFromText(\"sales.csv\", skip_header_lines=1)\n",
        "    | \"CleanSalesData\" >> CleanSalesData()\n",
        ")\n",
        "\n",
        "# Print a few cleaned results\n",
        "parsed_sales | \"PreviewCleanedData\" >> beam.Map(print)\n",
        "\n",
        "# Run pipeline\n",
        "p2.run().wait_until_finish()\n",
        "\n",
        "print(\"✅ Parsing and cleaning complete.\")\n"
      ],
      "metadata": {
        "colab": {
          "base_uri": "https://localhost:8080/"
        },
        "id": "3noaV67ez9tU",
        "outputId": "0a85e986-0f78-4016-8e24-9885ead9c6c0"
      },
      "execution_count": 5,
      "outputs": [
        {
          "output_type": "stream",
          "name": "stderr",
          "text": [
            "WARNING:apache_beam.options.pipeline_options:Discarding unparseable args: ['-f', '/root/.local/share/jupyter/runtime/kernel-6cd3a391-fb31-41d2-ac26-ac746692b628.json']\n",
            "WARNING:apache_beam.options.pipeline_options:Unparseable argument: -f\n",
            "WARNING:apache_beam.options.pipeline_options:Unparseable argument: /root/.local/share/jupyter/runtime/kernel-6cd3a391-fb31-41d2-ac26-ac746692b628.json\n",
            "WARNING:apache_beam.options.pipeline_options:Discarding flag -f, single dash flags are not allowed.\n",
            "WARNING:apache_beam.options.pipeline_options:Unparseable argument: -f\n",
            "WARNING:apache_beam.options.pipeline_options:Unparseable argument: /root/.local/share/jupyter/runtime/kernel-6cd3a391-fb31-41d2-ac26-ac746692b628.json\n",
            "WARNING:apache_beam.options.pipeline_options:Discarding flag -f, single dash flags are not allowed.\n",
            "WARNING:apache_beam.options.pipeline_options:Discarding unparseable args: ['-f', '/root/.local/share/jupyter/runtime/kernel-6cd3a391-fb31-41d2-ac26-ac746692b628.json']\n",
            "WARNING:apache_beam.options.pipeline_options:Discarding unparseable args: ['-f', '/root/.local/share/jupyter/runtime/kernel-6cd3a391-fb31-41d2-ac26-ac746692b628.json']\n"
          ]
        },
        {
          "output_type": "stream",
          "name": "stdout",
          "text": [
            "{'order_id': '1', 'customer': 'John', 'amount': 250.0, 'timestamp': '2025-10-28T10:01:05', 'total_with_tax': 262.5}\n",
            "{'order_id': '2', 'customer': 'Alice', 'amount': 900.0, 'timestamp': '2025-10-28T10:01:25', 'total_with_tax': 945.0}\n",
            "{'order_id': '3', 'customer': 'Bob', 'amount': 50.0, 'timestamp': '2025-10-28T10:02:10', 'total_with_tax': 52.5}\n",
            "{'order_id': '4', 'customer': 'Jane', 'amount': 600.0, 'timestamp': '2025-10-28T10:02:30', 'total_with_tax': 630.0}\n",
            "{'order_id': '6', 'customer': 'Mary', 'amount': 120.0, 'timestamp': '2025-10-28T10:03:45', 'total_with_tax': 126.0}\n",
            "{'order_id': '7', 'customer': 'Tom', 'amount': 750.0, 'timestamp': '2025-10-28T10:04:10', 'total_with_tax': 787.5}\n",
            "✅ Parsing and cleaning complete.\n"
          ]
        }
      ]
    },
    {
      "cell_type": "code",
      "source": [
        "# STEP 5: Apply Map and Filter transforms\n",
        "\n",
        "def to_usd(sale):\n",
        "    \"\"\"Convert amount to USD using an exchange rate.\"\"\"\n",
        "    exchange_rate = 1.1  # Assume 1 local currency = 1.1 USD\n",
        "    sale['amount_usd'] = round(sale['amount'] * exchange_rate, 2)\n",
        "    return sale\n",
        "\n",
        "def is_significant_sale(sale):\n",
        "    \"\"\"Keep only sales above a certain threshold.\"\"\"\n",
        "    return sale['amount'] > 100\n",
        "\n",
        "# Build pipeline\n",
        "p3 = beam.Pipeline(InteractiveRunner(), options=PipelineOptions())\n",
        "\n",
        "processed_sales = (\n",
        "    p3\n",
        "    | \"ReadCleanedData\" >> beam.io.ReadFromText(\"sales.csv\", skip_header_lines=1)\n",
        "    | \"CleanSalesData\" >> CleanSalesData()\n",
        "    | \"ConvertToUSD\" >> beam.Map(to_usd)\n",
        "    | \"FilterSmallSales\" >> beam.Filter(is_significant_sale)\n",
        ")\n",
        "\n",
        "# Print the filtered, converted sales\n",
        "processed_sales | \"PrintProcessed\" >> beam.Map(print)\n",
        "\n",
        "# Run\n",
        "p3.run().wait_until_finish()\n",
        "\n",
        "print(\"✅ Map and Filter transformations complete.\")\n"
      ],
      "metadata": {
        "colab": {
          "base_uri": "https://localhost:8080/"
        },
        "id": "NYQTuY0G0Hpj",
        "outputId": "ae6a6e79-d543-48dc-a05d-e166529d353a"
      },
      "execution_count": 6,
      "outputs": [
        {
          "output_type": "stream",
          "name": "stderr",
          "text": [
            "WARNING:apache_beam.options.pipeline_options:Discarding unparseable args: ['-f', '/root/.local/share/jupyter/runtime/kernel-6cd3a391-fb31-41d2-ac26-ac746692b628.json']\n",
            "WARNING:apache_beam.options.pipeline_options:Unparseable argument: -f\n",
            "WARNING:apache_beam.options.pipeline_options:Unparseable argument: /root/.local/share/jupyter/runtime/kernel-6cd3a391-fb31-41d2-ac26-ac746692b628.json\n",
            "WARNING:apache_beam.options.pipeline_options:Discarding flag -f, single dash flags are not allowed.\n",
            "WARNING:apache_beam.options.pipeline_options:Unparseable argument: -f\n",
            "WARNING:apache_beam.options.pipeline_options:Unparseable argument: /root/.local/share/jupyter/runtime/kernel-6cd3a391-fb31-41d2-ac26-ac746692b628.json\n",
            "WARNING:apache_beam.options.pipeline_options:Discarding flag -f, single dash flags are not allowed.\n",
            "WARNING:apache_beam.options.pipeline_options:Discarding unparseable args: ['-f', '/root/.local/share/jupyter/runtime/kernel-6cd3a391-fb31-41d2-ac26-ac746692b628.json']\n",
            "WARNING:apache_beam.options.pipeline_options:Discarding unparseable args: ['-f', '/root/.local/share/jupyter/runtime/kernel-6cd3a391-fb31-41d2-ac26-ac746692b628.json']\n"
          ]
        },
        {
          "output_type": "stream",
          "name": "stdout",
          "text": [
            "{'order_id': '1', 'customer': 'John', 'amount': 250.0, 'timestamp': '2025-10-28T10:01:05', 'total_with_tax': 262.5, 'amount_usd': 275.0}\n",
            "{'order_id': '2', 'customer': 'Alice', 'amount': 900.0, 'timestamp': '2025-10-28T10:01:25', 'total_with_tax': 945.0, 'amount_usd': 990.0}\n",
            "{'order_id': '4', 'customer': 'Jane', 'amount': 600.0, 'timestamp': '2025-10-28T10:02:30', 'total_with_tax': 630.0, 'amount_usd': 660.0}\n",
            "{'order_id': '6', 'customer': 'Mary', 'amount': 120.0, 'timestamp': '2025-10-28T10:03:45', 'total_with_tax': 126.0, 'amount_usd': 132.0}\n",
            "{'order_id': '7', 'customer': 'Tom', 'amount': 750.0, 'timestamp': '2025-10-28T10:04:10', 'total_with_tax': 787.5, 'amount_usd': 825.0}\n",
            "✅ Map and Filter transformations complete.\n"
          ]
        }
      ]
    },
    {
      "cell_type": "code",
      "source": [
        "# STEP 6: Partition the data into high-value and regular sales\n",
        "\n",
        "def partition_fn(sale, num_partitions):\n",
        "    \"\"\"Partition sales based on the amount.\"\"\"\n",
        "    return 0 if sale['amount'] > 500 else 1\n",
        "\n",
        "p4 = beam.Pipeline(InteractiveRunner(), options=PipelineOptions())\n",
        "\n",
        "high_value, regular_sales = (\n",
        "    p4\n",
        "    | \"ReadSales\" >> beam.io.ReadFromText(\"sales.csv\", skip_header_lines=1)\n",
        "    | \"CleanData\" >> CleanSalesData()\n",
        "    | \"ToUSD\" >> beam.Map(lambda x: {**x, 'amount_usd': round(x['amount'] * 1.1, 2)})\n",
        "    | \"PartitionSales\" >> beam.Partition(partition_fn, 2)\n",
        ")\n",
        "\n",
        "# Print each partition separately\n",
        "(high_value | \"PrintHighValue\" >> beam.Map(lambda x: print(\"High value:\", x)))\n",
        "(regular_sales | \"PrintRegular\" >> beam.Map(lambda x: print(\"Regular:\", x)))\n",
        "\n",
        "# Run\n",
        "p4.run().wait_until_finish()\n",
        "\n",
        "print(\"✅ Partitioning complete.\")\n"
      ],
      "metadata": {
        "colab": {
          "base_uri": "https://localhost:8080/"
        },
        "id": "oT1UKpPt0Qgf",
        "outputId": "c102b333-9465-4333-e098-53bcbb2602ac"
      },
      "execution_count": 7,
      "outputs": [
        {
          "output_type": "stream",
          "name": "stderr",
          "text": [
            "WARNING:apache_beam.options.pipeline_options:Discarding unparseable args: ['-f', '/root/.local/share/jupyter/runtime/kernel-6cd3a391-fb31-41d2-ac26-ac746692b628.json']\n",
            "WARNING:apache_beam.options.pipeline_options:Unparseable argument: -f\n",
            "WARNING:apache_beam.options.pipeline_options:Unparseable argument: /root/.local/share/jupyter/runtime/kernel-6cd3a391-fb31-41d2-ac26-ac746692b628.json\n",
            "WARNING:apache_beam.options.pipeline_options:Discarding flag -f, single dash flags are not allowed.\n",
            "WARNING:apache_beam.options.pipeline_options:Unparseable argument: -f\n",
            "WARNING:apache_beam.options.pipeline_options:Unparseable argument: /root/.local/share/jupyter/runtime/kernel-6cd3a391-fb31-41d2-ac26-ac746692b628.json\n",
            "WARNING:apache_beam.options.pipeline_options:Discarding flag -f, single dash flags are not allowed.\n",
            "WARNING:apache_beam.options.pipeline_options:Discarding unparseable args: ['-f', '/root/.local/share/jupyter/runtime/kernel-6cd3a391-fb31-41d2-ac26-ac746692b628.json']\n",
            "WARNING:apache_beam.options.pipeline_options:Discarding unparseable args: ['-f', '/root/.local/share/jupyter/runtime/kernel-6cd3a391-fb31-41d2-ac26-ac746692b628.json']\n"
          ]
        },
        {
          "output_type": "stream",
          "name": "stdout",
          "text": [
            "Regular: {'order_id': '1', 'customer': 'John', 'amount': 250.0, 'timestamp': '2025-10-28T10:01:05', 'total_with_tax': 262.5, 'amount_usd': 275.0}\n",
            "High value: {'order_id': '2', 'customer': 'Alice', 'amount': 900.0, 'timestamp': '2025-10-28T10:01:25', 'total_with_tax': 945.0, 'amount_usd': 990.0}\n",
            "Regular: {'order_id': '3', 'customer': 'Bob', 'amount': 50.0, 'timestamp': '2025-10-28T10:02:10', 'total_with_tax': 52.5, 'amount_usd': 55.0}\n",
            "High value: {'order_id': '4', 'customer': 'Jane', 'amount': 600.0, 'timestamp': '2025-10-28T10:02:30', 'total_with_tax': 630.0, 'amount_usd': 660.0}\n",
            "Regular: {'order_id': '6', 'customer': 'Mary', 'amount': 120.0, 'timestamp': '2025-10-28T10:03:45', 'total_with_tax': 126.0, 'amount_usd': 132.0}\n",
            "High value: {'order_id': '7', 'customer': 'Tom', 'amount': 750.0, 'timestamp': '2025-10-28T10:04:10', 'total_with_tax': 787.5, 'amount_usd': 825.0}\n",
            "✅ Partitioning complete.\n"
          ]
        }
      ]
    },
    {
      "cell_type": "code",
      "source": [
        "# STEP 7: Apply Windowing to group sales by 1-minute intervals\n",
        "\n",
        "from apache_beam import window\n",
        "import datetime\n",
        "\n",
        "def parse_and_add_timestamp(line):\n",
        "    \"\"\"Parse a CSV line and attach an event timestamp.\"\"\"\n",
        "    order_id, customer, amount, timestamp = line.split(',')\n",
        "    amount = float(amount)\n",
        "    if amount <= 0:\n",
        "        return\n",
        "    # Convert string timestamp to Beam Timestamp\n",
        "    ts = datetime.datetime.fromisoformat(timestamp.strip())\n",
        "    yield beam.window.TimestampedValue(\n",
        "        (customer, amount),\n",
        "        ts.timestamp()\n",
        "    )\n",
        "\n",
        "p5 = beam.Pipeline(InteractiveRunner(), options=PipelineOptions())\n",
        "\n",
        "windowed_sales = (\n",
        "    p5\n",
        "    | \"ReadSalesForWindow\" >> beam.io.ReadFromText(\"sales.csv\", skip_header_lines=1)\n",
        "    | \"ParseAndAddTimestamp\" >> beam.FlatMap(parse_and_add_timestamp)\n",
        "    | \"ApplyFixedWindow\" >> beam.WindowInto(window.FixedWindows(60))\n",
        "    | \"SumAmountsPerCustomer\" >> beam.CombinePerKey(sum)\n",
        ")\n",
        "\n",
        "# Print windowed results\n",
        "windowed_sales | \"PrintWindowedResults\" >> beam.Map(print)\n",
        "\n",
        "p5.run().wait_until_finish()\n",
        "\n",
        "print(\"✅ Windowing complete.\")\n"
      ],
      "metadata": {
        "colab": {
          "base_uri": "https://localhost:8080/"
        },
        "id": "asyOIz0R0eUG",
        "outputId": "525d2099-683a-44cc-e44f-da97b04ca005"
      },
      "execution_count": 8,
      "outputs": [
        {
          "output_type": "stream",
          "name": "stderr",
          "text": [
            "WARNING:apache_beam.options.pipeline_options:Discarding unparseable args: ['-f', '/root/.local/share/jupyter/runtime/kernel-6cd3a391-fb31-41d2-ac26-ac746692b628.json']\n",
            "WARNING:apache_beam.options.pipeline_options:Unparseable argument: -f\n",
            "WARNING:apache_beam.options.pipeline_options:Unparseable argument: /root/.local/share/jupyter/runtime/kernel-6cd3a391-fb31-41d2-ac26-ac746692b628.json\n",
            "WARNING:apache_beam.options.pipeline_options:Discarding flag -f, single dash flags are not allowed.\n",
            "WARNING:apache_beam.options.pipeline_options:Unparseable argument: -f\n",
            "WARNING:apache_beam.options.pipeline_options:Unparseable argument: /root/.local/share/jupyter/runtime/kernel-6cd3a391-fb31-41d2-ac26-ac746692b628.json\n",
            "WARNING:apache_beam.options.pipeline_options:Discarding flag -f, single dash flags are not allowed.\n",
            "WARNING:apache_beam.options.pipeline_options:Discarding unparseable args: ['-f', '/root/.local/share/jupyter/runtime/kernel-6cd3a391-fb31-41d2-ac26-ac746692b628.json']\n",
            "WARNING:apache_beam.options.pipeline_options:Discarding unparseable args: ['-f', '/root/.local/share/jupyter/runtime/kernel-6cd3a391-fb31-41d2-ac26-ac746692b628.json']\n"
          ]
        },
        {
          "output_type": "stream",
          "name": "stdout",
          "text": [
            "('John', 250.0)\n",
            "('Alice', 900.0)\n",
            "('Bob', 50.0)\n",
            "('Jane', 600.0)\n",
            "('Mary', 120.0)\n",
            "('Tom', 750.0)\n",
            "✅ Windowing complete.\n"
          ]
        }
      ]
    },
    {
      "cell_type": "code",
      "source": [
        "# STEP 8: Write high-value and regular sales to output files\n",
        "\n",
        "def partition_fn(sale, num_partitions):\n",
        "    return 0 if sale['amount'] > 500 else 1  # 0 -> high value, 1 -> regular\n",
        "\n",
        "p6 = beam.Pipeline(InteractiveRunner(), options=PipelineOptions())\n",
        "\n",
        "high_value, regular_sales = (\n",
        "    p6\n",
        "    | \"ReadSalesFile\" >> beam.io.ReadFromText(\"sales.csv\", skip_header_lines=1)\n",
        "    | \"CleanSales\" >> CleanSalesData()\n",
        "    | \"PartitionSales\" >> beam.Partition(partition_fn, 2)\n",
        ")\n",
        "\n",
        "# Write each partition to separate text files\n",
        "(\n",
        "    high_value\n",
        "    | \"FormatHighValue\" >> beam.Map(lambda x: f\"{x['customer']},{x['amount']},{x['timestamp']}\")\n",
        "    | \"WriteHighValue\" >> beam.io.WriteToText(\"output/high_value_sales\")\n",
        ")\n",
        "\n",
        "(\n",
        "    regular_sales\n",
        "    | \"FormatRegular\" >> beam.Map(lambda x: f\"{x['customer']},{x['amount']},{x['timestamp']}\")\n",
        "    | \"WriteRegular\" >> beam.io.WriteToText(\"output/regular_sales\")\n",
        ")\n",
        "\n",
        "p6.run().wait_until_finish()\n",
        "\n",
        "print(\"✅ Outputs written to 'output/' folder.\")\n",
        "!ls output\n"
      ],
      "metadata": {
        "id": "7YvCo6r20qne",
        "outputId": "5fc4c32b-5777-43e2-d386-a99d75a10268",
        "colab": {
          "base_uri": "https://localhost:8080/"
        }
      },
      "execution_count": 9,
      "outputs": [
        {
          "output_type": "stream",
          "name": "stderr",
          "text": [
            "WARNING:apache_beam.options.pipeline_options:Discarding unparseable args: ['-f', '/root/.local/share/jupyter/runtime/kernel-6cd3a391-fb31-41d2-ac26-ac746692b628.json']\n",
            "WARNING:apache_beam.options.pipeline_options:Unparseable argument: -f\n",
            "WARNING:apache_beam.options.pipeline_options:Unparseable argument: /root/.local/share/jupyter/runtime/kernel-6cd3a391-fb31-41d2-ac26-ac746692b628.json\n",
            "WARNING:apache_beam.options.pipeline_options:Discarding flag -f, single dash flags are not allowed.\n",
            "WARNING:apache_beam.options.pipeline_options:Unparseable argument: -f\n",
            "WARNING:apache_beam.options.pipeline_options:Unparseable argument: /root/.local/share/jupyter/runtime/kernel-6cd3a391-fb31-41d2-ac26-ac746692b628.json\n",
            "WARNING:apache_beam.options.pipeline_options:Discarding flag -f, single dash flags are not allowed.\n",
            "WARNING:apache_beam.options.pipeline_options:Discarding unparseable args: ['-f', '/root/.local/share/jupyter/runtime/kernel-6cd3a391-fb31-41d2-ac26-ac746692b628.json']\n",
            "WARNING:apache_beam.options.pipeline_options:Discarding unparseable args: ['-f', '/root/.local/share/jupyter/runtime/kernel-6cd3a391-fb31-41d2-ac26-ac746692b628.json']\n"
          ]
        },
        {
          "output_type": "stream",
          "name": "stdout",
          "text": [
            "✅ Outputs written to 'output/' folder.\n",
            "high_value_sales-00000-of-00001  regular_sales-00000-of-00001\n"
          ]
        }
      ]
    }
  ]
}